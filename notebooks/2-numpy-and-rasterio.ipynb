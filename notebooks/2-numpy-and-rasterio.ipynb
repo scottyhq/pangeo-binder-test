{
 "cells": [
  {
   "cell_type": "markdown",
   "metadata": {},
   "source": [
    "# Python libraries for raster data\n",
    "\n",
    "This notebook based on content from previous geohackweek raster tutorials https://github.com/geohackweek/raster\n",
    "\n",
    "<div class=\"alert-info\">\n",
    "\n",
    "### Overview\n",
    "    \n",
    "* **teaching:** 30 minutes\n",
    "* **exercises:** 0\n",
    "* **questions:**\n",
    "    * What python libraries can I use to work with raster data?\n",
    "* **objectives:**\n",
    "    * Understand the relationship between numpy, rasterio, and GDAL\n",
    "  \n",
    "</div>"
   ]
  },
  {
   "cell_type": "markdown",
   "metadata": {},
   "source": [
    "### Table of contents\n",
    "\n",
    "1. [**Numpy**](#Numpy)\n",
    "1. [**Rasterio**](#Rasterio)\n",
    "1. [**Image and World coordinates**](#Image-and-World-coordinates)\n",
    "1. [**Other libraries**](#Image-and-World-coordinates)"
   ]
  },
  {
   "cell_type": "markdown",
   "metadata": {},
   "source": [
    "## Numpy\n",
    "\n",
    "Because rasters are images, they are best thought of as 2-dimensional arrays.  If we have multiple bands, we could think of an image as a 3-dimensional array. Either way, we are working with arrays (matrices) of pixel values, which in the\n",
    "Python programming language are usually represented by [NumPy](http://numpy.org) arrays.\n",
    "\n",
    "For this tutorial, we'll perform basic operations with NumPy arrays extracted from geospatial rasters.  For more information about multidimensional array analysis, take a look at the geohackweek tutorial on [N-Dimensional Arrays](https://geohackweek.github.io/nDarrays)."
   ]
  },
  {
   "cell_type": "code",
   "execution_count": null,
   "metadata": {},
   "outputs": [],
   "source": [
    "# Create raster data\n",
    "import numpy as np\n",
    "\n",
    "nx = 60\n",
    "ny = 45\n",
    "x = np.linspace(-4.0, 4.0, nx)\n",
    "y = np.linspace(-3.0, 3.0, ny)\n",
    "X, Y = np.meshgrid(x, y)\n",
    "Z1 = np.exp(-2 * np.log(2) * ((X - 0.5) ** 2 + (Y - 0.5) ** 2) / 1 ** 2)\n",
    "Z2 = np.exp(-3 * np.log(2) * ((X + 0.5) ** 2 + (Y + 0.5) ** 2) / 2.5 ** 2)\n",
    "Z = 10.0 * (Z2 - Z1)"
   ]
  },
  {
   "cell_type": "code",
   "execution_count": null,
   "metadata": {},
   "outputs": [],
   "source": [
    "print(type(Z))\n",
    "print(Z)"
   ]
  },
  {
   "cell_type": "code",
   "execution_count": null,
   "metadata": {},
   "outputs": [],
   "source": [
    "# Numpy arrays permit all kinds of operations on our raster data, some of the most common are:\n",
    "\n",
    "# indexing\n",
    "print('value at Z[25,20]: ', Z[25,20])\n",
    "    \n",
    "# slicing\n",
    "print('first row, last 3 values: ', Z[0,-3:])\n",
    "\n",
    "# math\n",
    "print('mean of all values: ', np.mean(Z))"
   ]
  },
  {
   "cell_type": "code",
   "execution_count": null,
   "metadata": {},
   "outputs": [],
   "source": [
    "import matplotlib.pyplot as plt\n",
    "%matplotlib inline\n",
    "\n",
    "# Visualize with matplotlib\n",
    "plt.imshow(Z, origin='upper', interpolation='none')\n",
    "plt.colorbar();"
   ]
  },
  {
   "cell_type": "markdown",
   "metadata": {},
   "source": [
    "## Rasterio\n",
    "\n",
    "An excellent python library supported by Mapbox is [rasterio](https://rasterio.readthedocs.io/en/latest/). Rasterio provides a \"Pythonic\" interface to GDAL and supports most of the features and formats that GDAL supports. Both GDAL and rasterio are constantly being updated and improved: As of writing this tutorial (August 2019), GDAL is at version 3.0.0 and rasterio is at version 1.0.25\n",
    "\n",
    "**Rasterio uses numpy arrays to represent raster data. It also uses the [Proj4](https://github.com/OSGeo/PROJ) library and GDAL to manage geospatial operations.**\n",
    "\n",
    "In the example below use rasterio to assign a CRS and geotransform to the data we just created. The coordinate reference system will be '+proj=latlong', which describes an equirectangular coordinate reference system with units of decimal degrees. The affine transformation matrix can be computed from the matrix product of a translation and a scaling:"
   ]
  },
  {
   "cell_type": "code",
   "execution_count": null,
   "metadata": {},
   "outputs": [],
   "source": [
    "# Create Affine geotransformation\n",
    "from rasterio.transform import Affine\n",
    "\n",
    "res = (x[-1] - x[0]) / 240.0\n",
    "ulx = x[0] - res / 2\n",
    "uly = y[-1] - res / 2\n",
    "transform = Affine.translation(ulx, uly) * Affine.scale(res, -res)\n",
    "transform"
   ]
  },
  {
   "cell_type": "code",
   "execution_count": null,
   "metadata": {},
   "outputs": [],
   "source": [
    "# Save as a Geotiff\n",
    "import rasterio\n",
    "\n",
    "with rasterio.open('example.tif', 'w',\n",
    "                    driver='GTiff',\n",
    "                    height=Z.shape[0],\n",
    "                    width=Z.shape[1],\n",
    "                    count=1,\n",
    "                    dtype=Z.dtype,\n",
    "                    crs='+proj=latlong', # this is a \"proj4\" string defining the projection\n",
    "                    transform=transform,\n",
    "                    ) as dst:\n",
    "    dst.write(Z, 1)"
   ]
  },
  {
   "cell_type": "code",
   "execution_count": null,
   "metadata": {},
   "outputs": [],
   "source": [
    "# Load the file into memory and plot\n",
    "import rasterio.plot\n",
    "with rasterio.open('example.tif') as src:\n",
    "    print(src.profile)\n",
    "    rasterio.plot.show(src)"
   ]
  },
  {
   "cell_type": "markdown",
   "metadata": {},
   "source": [
    "## Image and World coordinates\n",
    "\n",
    "We now have the same array but with georeferenced coordinates. We often know the georeferenced coordinates of a position of interest, but not the row,col of that position in a raster rasterio helps us manage our two sets of 'image' and 'world' coordinates:"
   ]
  },
  {
   "cell_type": "code",
   "execution_count": null,
   "metadata": {},
   "outputs": [],
   "source": [
    "# Note that with rasterio if we read the data into memory, we get our numpy array back\n",
    "with rasterio.open('example.tif') as src:\n",
    "    data = src.read()"
   ]
  },
  {
   "cell_type": "code",
   "execution_count": null,
   "metadata": {},
   "outputs": [],
   "source": [
    "# But rasterio appends an additional dimension corresponding to the raster band\n",
    "print(type(data))\n",
    "print(data)\n",
    "print(data.shape)"
   ]
  },
  {
   "cell_type": "code",
   "execution_count": null,
   "metadata": {},
   "outputs": [],
   "source": [
    "lon, lat = -3.33, 2.13\n",
    "with rasterio.open('example.tif') as src:\n",
    "    row, col = src.index(lon, lat) # spatial --> image coordinates\n",
    "    val = src.read(1)[row,col] # band 1, value at row,col\n",
    "\n",
    "print('(Lon,Lat), (Row,Col), Value: ', (lon,lat), (row,col), val)"
   ]
  },
  {
   "cell_type": "markdown",
   "metadata": {},
   "source": [
    "## Other libraries\n",
    "\n",
    "This just scratches the surface of numpy and rasterio, but demonstrates the relationship between these foundational libraries. Many other libraries exist in the fields of geoprocessing (which would include hydrological routing and other routines needed for Earth Systems Sciences) and digital signal processing (including image classification, pattern recognition, and feature extraction)! "
   ]
  },
  {
   "cell_type": "markdown",
   "metadata": {},
   "source": [
    "<div class=\"alert-info\">\n",
    "\n",
    "## key points \n",
    "\n",
    "  - Rasterio is built around the GDAL library to facilitate raster operations in Python\n",
    "  - Pixel values of rasters can be extracted to a numpy array\n",
    "  - Computation is done in local memory on numpy arrays, then saved to the raster format of choice\n",
    "    \n",
    "</div>"
   ]
  }
 ],
 "metadata": {
  "kernelspec": {
   "display_name": "Python [conda env:dinosar]",
   "language": "python",
   "name": "conda-env-dinosar-py"
  },
  "language_info": {
   "codemirror_mode": {
    "name": "ipython",
    "version": 3
   },
   "file_extension": ".py",
   "mimetype": "text/x-python",
   "name": "python",
   "nbconvert_exporter": "python",
   "pygments_lexer": "ipython3",
   "version": "3.7.3"
  }
 },
 "nbformat": 4,
 "nbformat_minor": 4
}
