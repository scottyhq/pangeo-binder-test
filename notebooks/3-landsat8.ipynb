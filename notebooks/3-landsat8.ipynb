{
 "cells": [
  {
   "cell_type": "markdown",
   "metadata": {},
   "source": [
    "# First pass at new raster tutorial material\n",
    "\n",
    "\n",
    "### Note: This notebook will focus on accessing Landsat8 and Sentinel2 public datasets on AWS (10-30m postings)\n",
    "\n",
    "Target area for Cyclone Kenneth 2019-04-25\n",
    "(building off https://github.com/shaystrong/sagely, https://medium.com/@shay.strong/openstreetmap-data-to-ml-training-labels-for-object-detection-ce0a3ccdb907, https://github.com/shaystrong/sagely/blob/master/osm_ml_training_pt1.ipynb) \n",
    "\n",
    "Goals identified by Friederich:\n",
    "- pull in open source raster data on the fly for the specified bounding box, at a resolution sufficient to delineate buildings\n",
    "- learn how to explore the data using rasterio and gdal etc.\n",
    "- groom and clean - ready for ML (could be as simple as changing the projection and dropping unnecessary bands, for example)\n",
    "- if open raster data sources aren’t at a high enough resolution - good discussion point - can stage a dataset that is. this would also teach folks how to add in their own data and coregister it into the same coordinate system and projection.\n",
    "\n",
    "\n",
    "bbox = [43.16, -11.32, 43.54, -11.96]"
   ]
  },
  {
   "cell_type": "code",
   "execution_count": null,
   "metadata": {},
   "outputs": [],
   "source": [
    "import ipyleaflet\n",
    "from ipyleaflet import Map, Rectangle, basemaps, basemap_to_tiles, TileLayer, SplitMapControl, Polygon\n",
    "\n",
    "import geopandas as gpd\n",
    "\n",
    "import satsearch\n",
    "from satstac import Items\n",
    "\n",
    "import holoviews as hv\n",
    "import hvplot.xarray\n",
    "import hvplot.pandas\n",
    "import geoviews as gv\n",
    "\n",
    "import ipywidgets\n",
    "import datetime\n",
    "\n",
    "from ipywidgets import interact\n",
    "from IPython.display import display, Image\n",
    "\n",
    "import json\n",
    "from cartopy import crs as ccrs\n",
    "\n",
    "import rasterio\n",
    "import rasterio.mask\n",
    "from rasterio.session import AWSSession\n",
    "import xarray as xr\n",
    "\n",
    "# Might still be some issues with jupyterlab 1\n",
    "#%matplotlib widget\n",
    "import matplotlib.pyplot as plt\n",
    "from matplotlib.colors import LogNorm\n",
    "%matplotlib inline"
   ]
  },
  {
   "cell_type": "code",
   "execution_count": null,
   "metadata": {},
   "outputs": [],
   "source": [
    "bbox = [43.16, -11.32, 43.54, -11.96]\n",
    "west, north, east, south = bbox\n",
    "bbox_ctr = [0.5*(north+south), 0.5*(west+east)]"
   ]
  },
  {
   "cell_type": "markdown",
   "metadata": {},
   "source": [
    "## 1) Look at a leaflet slippy map to get accustomed to area of interest"
   ]
  },
  {
   "cell_type": "code",
   "execution_count": null,
   "metadata": {},
   "outputs": [],
   "source": [
    "m = Map(center=bbox_ctr, zoom=6)\n",
    "rectangle = Rectangle(bounds=((south, west), (north, east))) #SW and NE corners of the rectangle (lat, lon)\n",
    "m.add_layer(rectangle)\n",
    "m"
   ]
  },
  {
   "cell_type": "markdown",
   "metadata": {},
   "source": [
    "## 2) NASA GIBS provides free imagery tiles that can be easily displayed with ipyleaflet\n",
    "\n",
    "The NASA Worldview web application is a way to explore all GIBS datasets https://worldview.earthdata.nasa.gov/\n",
    "More here: https://earthdata.nasa.gov/eosdis/science-system-description/eosdis-components/gibs\n",
    "\n",
    "NOTES: \n",
    "* add some information about MODIS. Coarse resolution, not optimal for building detection, but daily and free!\n",
    "* also, odds are there are clouds obstructing your view of earth's surface!\n",
    "* GIBS has pre-rendered images good for visualizations, if you're interested in analytic values for scientific analysis, this isn't the best option\n",
    "* Apparently the tiles only exist to a zoom level 9 (b/c very coarse resolution)"
   ]
  },
  {
   "cell_type": "code",
   "execution_count": null,
   "metadata": {},
   "outputs": [],
   "source": [
    "m = Map(center=bbox_ctr, zoom=8)# MODIS great for large areas (onl)\n",
    "\n",
    "right_layer = basemap_to_tiles(basemaps.NASAGIBS.ModisTerraTrueColorCR, \"2019-06-30\")\n",
    "left_layer = TileLayer()\n",
    "control = SplitMapControl(left_layer=left_layer, right_layer=right_layer)\n",
    "m.add_control(control)\n",
    "\n",
    "m.add_layer(rectangle)\n",
    "\n",
    "m"
   ]
  },
  {
   "cell_type": "code",
   "execution_count": null,
   "metadata": {},
   "outputs": [],
   "source": [
    "# Putting it all together\n",
    "\n",
    "date_picker = ipywidgets.DatePicker(description='MODIS Image Date: ', value=datetime.datetime.today(), style=dict(description_width='initial'))\n",
    "m = Map(center=bbox_ctr, zoom=8)# MODIS great for large areas (onl)\n",
    "\n",
    "right_layer = basemap_to_tiles(basemaps.NASAGIBS.ModisTerraTrueColorCR, )\n",
    "left_layer = TileLayer()\n",
    "control = SplitMapControl(left_layer=left_layer, right_layer=right_layer)\n",
    "m.add_control(control)\n",
    "\n",
    "m.add_layer(rectangle)\n",
    "\n",
    "def on_value_change(change):\n",
    "    newurl = f'https://gibs.earthdata.nasa.gov/wmts/epsg3857/best/MODIS_Terra_CorrectedReflectance_TrueColor/default/{date}/GoogleMapsCompatible_Level9/{{z}}/{{y}}/{{x}}.jpg'\n",
    "    right_layer.set_trait('url', newurl)\n",
    "\n",
    "date_picker.observe(on_value_change)\n",
    "\n",
    "display(date_picker, m)"
   ]
  },
  {
   "cell_type": "markdown",
   "metadata": {},
   "source": [
    "## 3) Sat-search is a tool to discover free imagery on AWS \n",
    "\n",
    "https://github.com/sat-utils/sat-search\n",
    "https://github.com/sat-utils/sat-stac\n",
    "\n",
    "https://github.com/pangeo-data/intake-stac\n",
    "\n",
    "https://registry.opendata.aws/\n",
    "    \n",
    "    \n",
    "NOTES: \n",
    "* bbox and coordinate listing often have different orderings (lon, lat) (south, north, west, east)\n",
    "* add a table comparing Landsat8, Sentinel2, CBERS (resolution/posting, repeat interval)"
   ]
  },
  {
   "cell_type": "code",
   "execution_count": null,
   "metadata": {},
   "outputs": [],
   "source": [
    "# bbox as a python list is great for use in python, but we can instead save to a more interoperable format (GeoJSON)\n",
    "# Here is a great website for creating and visualizing geojson on a map: http://geojson.io\n",
    "\n",
    "\n",
    "aoi = { \"type\": \"Polygon\", \n",
    "    \"coordinates\": [[[west, south], [west, north], [east, north], [east, south], [west, south]]]\n",
    "}\n",
    "# pretty print formatting\n",
    "print(json.dumps(aoi, sort_keys=False, indent=2))\n",
    "\n",
    "# save to file for future use\n",
    "with open('aoi-5977.geojson', 'w') as f:\n",
    "    json.dump(aoi, f)"
   ]
  },
  {
   "cell_type": "code",
   "execution_count": null,
   "metadata": {},
   "outputs": [],
   "source": [
    "\n",
    "# Load results to pandas geodataframe\n",
    "# now other packages such as geojson can read this file\n",
    "gfa = gpd.read_file('aoi-5977.geojson')\n",
    "gfa"
   ]
  },
  {
   "cell_type": "code",
   "execution_count": null,
   "metadata": {},
   "outputs": [],
   "source": [
    "# Sat-search provides an intuitive way to search for images using STAC catalogs (https://stacspec.org/)\n",
    "\n",
    "\n",
    "results = satsearch.Search(bbox=bbox, datetime='2019-02-01/2019-06-01')\n",
    "print('%s items' % results.found())\n",
    "items = results.items()\n",
    "print('%s collections:' % len(items._collections))\n",
    "print(items._collections)\n"
   ]
  },
  {
   "cell_type": "code",
   "execution_count": null,
   "metadata": {},
   "outputs": [],
   "source": [
    "# If you are unfamiliar with one of these satellites, we can look at stored metadata\n",
    "col = items._collections[0]\n",
    "\n",
    "print('Title:', col.title)\n",
    "print('Collection Version:', col.version)\n",
    "print('Keywords: ', col.keywords)\n",
    "print('License:', col.license)\n",
    "print('Providers:', col.providers)\n",
    "print('Extent', col.extent)"
   ]
  },
  {
   "cell_type": "code",
   "execution_count": null,
   "metadata": {},
   "outputs": [],
   "source": [
    "# We can delve deeper to see what kind of metadata is available at the scene level\n",
    "for key in col.properties:\n",
    "    if key == 'eo:bands':\n",
    "        [print(band) for band in col[key]]\n",
    "    else:\n",
    "        print('%s: %s' % (key, col[key]))"
   ]
  },
  {
   "cell_type": "code",
   "execution_count": null,
   "metadata": {},
   "outputs": [],
   "source": [
    "# How does Sentinel-2 data differ?\n",
    "col = items._collections[1]\n",
    "print('Title:', col.title)\n",
    "print('Collection Version:', col.version)\n",
    "print('Keywords: ', col.keywords)\n",
    "print('License:', col.license)\n",
    "print('Providers:', col.providers)\n",
    "print('Extent', col.extent)\n",
    "\n",
    "# We can delve deeper to see what kind of metadata is available at the scene level\n",
    "for key in col.properties:\n",
    "    if key == 'eo:bands':\n",
    "        [print(band) for band in col[key]]\n",
    "    else:\n",
    "        print('%s: %s' % (key, col[key]))"
   ]
  },
  {
   "cell_type": "code",
   "execution_count": null,
   "metadata": {},
   "outputs": [],
   "source": [
    "# Custom syntax (additional fields, query strings instead of query dict)\n",
    "properties =  [\"landsat:tier=T1\"] \n",
    "\n",
    "bbox = (west, south, east, north) #(min lon, min lat, max lon, max lat)\n",
    "\n",
    "results = satsearch.Search.search(collection='landsat-8-l1', \n",
    "                        bbox=bbox, \n",
    "                        sort=['<datetime'], #earliest scene first\n",
    "                        property=properties)\n",
    "print('%s items' % results.found())"
   ]
  },
  {
   "cell_type": "code",
   "execution_count": null,
   "metadata": {},
   "outputs": [],
   "source": [
    "# Save for later/sharing with others\n",
    "\n",
    "items = results.items()\n",
    "items.save('items-landsat8.json')\n",
    "items = Items.load('items-landsat8.json')\n",
    "#items.bbox()"
   ]
  },
  {
   "cell_type": "code",
   "execution_count": null,
   "metadata": {},
   "outputs": [],
   "source": [
    "gfl = gpd.read_file('items-landsat8.json')\n",
    "gfl = gfl.sort_values('datetime').reset_index(drop=True)\n",
    "print('records:', len(gfl))\n",
    "gfl.head()"
   ]
  },
  {
   "cell_type": "code",
   "execution_count": null,
   "metadata": {},
   "outputs": [],
   "source": [
    "gfl['landsat:revision'].unique()"
   ]
  },
  {
   "cell_type": "code",
   "execution_count": null,
   "metadata": {},
   "outputs": [],
   "source": [
    "# Are all datetimes unique? we have varying 'archive numbers GN02, GN03' https://gisgeography.com/landsat-file-naming-convention/\n",
    "len(gfl['datetime'].unique())"
   ]
  },
  {
   "cell_type": "code",
   "execution_count": null,
   "metadata": {},
   "outputs": [],
   "source": [
    "# Note the cloud_cover column, we can narrow our search by any of these propoerties\n",
    "properties.extend([\"eo:cloud_cover<10\"])\n",
    "\n",
    "test = satsearch.Search.search(collection='landsat-8-l1', \n",
    "                        bbox=bbox, \n",
    "                        sort=['<datetime'], #earliest scene first\n",
    "                        property=properties)\n",
    "print('%s items' % test.found())"
   ]
  },
  {
   "cell_type": "code",
   "execution_count": null,
   "metadata": {},
   "outputs": [],
   "source": [
    "# Or since we can just use geopandas to filter results\n",
    "subset = gfl[gfl['eo:cloud_cover'] < 10]\n",
    "print('%s items' % len(subset))"
   ]
  },
  {
   "cell_type": "code",
   "execution_count": null,
   "metadata": {},
   "outputs": [],
   "source": [
    "# Plot search AOI and frames on a map\n",
    "\n",
    "# just keep id for hover tips\n",
    "cols = gfl.loc[:,('id','geometry')]\n",
    "\n",
    "footprints = cols.hvplot(geo=True, line_color='k', alpha=0.1, title='Landsat 8 T1')\n",
    "aoi = gfa.hvplot(geo=True, line_color='b', fill_color=None)\n",
    "tiles = gv.tile_sources.CartoEco.options(width=700, height=500) #.redim.range(Latitude=(45, 50), Longitude=(-126,-120)) \n",
    "labels = gv.tile_sources.StamenLabels.options(level='annotation')\n",
    "tiles * footprints * aoi * labels"
   ]
  },
  {
   "cell_type": "code",
   "execution_count": null,
   "metadata": {},
   "outputs": [],
   "source": [
    "# Pick the best path-row for aoi and browse thumbnails row=068 col=162\n",
    "\n",
    "\n",
    "def browse_images(items):\n",
    "    n = len(items)\n",
    "\n",
    "    def view_image(i=0):\n",
    "        item = items[i]\n",
    "        print(f\"id={item.id}\\tdate={item.datetime}\\tcloud%={item['eo:cloud_cover']}\")\n",
    "        display(Image(item.asset('thumbnail')['href']))\n",
    "    \n",
    "    interact(view_image, i=(0,n-1))"
   ]
  },
  {
   "cell_type": "code",
   "execution_count": null,
   "metadata": {},
   "outputs": [],
   "source": [
    "# Custom syntax (additional fields, query strings instead of query dict)\n",
    "properties =  [\"eo:row=068\",\n",
    "               \"eo:column=162\",\n",
    "               \"landsat:tier=T1\"] \n",
    "results = satsearch.Search.search(collection='landsat-8-l1', \n",
    "                        bbox=bbox, \n",
    "                        sort=['<datetime'], #earliest scene first\n",
    "                        property=properties)\n",
    "print('%s items' % results.found())\n",
    "items = results.items()"
   ]
  },
  {
   "cell_type": "code",
   "execution_count": null,
   "metadata": {},
   "outputs": [],
   "source": [
    "# a good one LC81620682014200LGN01\n",
    "browse_images(items) #Not updating... issue w/ ipywidgets jlab 1?"
   ]
  },
  {
   "cell_type": "code",
   "execution_count": null,
   "metadata": {},
   "outputs": [],
   "source": [
    "# Same visualization for sentinel-2\n",
    "# Custom syntax (additional fields, query strings instead of query dict)\n",
    "\n",
    "# Also available in many locations https://www.usgs.gov/centers/eros/science/usgs-eros-archive-sentinel-2\n",
    "# https://sentinel.esa.int/web/sentinel/sentinel-data-access\n",
    "# https://gdal.org/drivers/raster/sentinel2.html\n",
    "\n",
    "# remember we are searching data on AWS:\n",
    "#https://registry.opendata.aws/sentinel-2/ \n",
    "properties = []\n",
    "bbox = (west, south, east, north) #(min lon, min lat, max lon, max lat)\n",
    "\n",
    "results = satsearch.Search.search(collection='sentinel-2-l1c', \n",
    "                        bbox=bbox, \n",
    "                        sort=['<datetime'], #earliest scene first\n",
    "                        property=properties)\n",
    "print('%s items' % results.found())"
   ]
  },
  {
   "cell_type": "code",
   "execution_count": null,
   "metadata": {},
   "outputs": [],
   "source": [
    "items = results.items()\n",
    "items.save('items-sentinel2.json')\n",
    "#items = Items.load('items-sentinel2.json')\n",
    "#items.bbox()"
   ]
  },
  {
   "cell_type": "code",
   "execution_count": null,
   "metadata": {},
   "outputs": [],
   "source": [
    "gfs = gpd.read_file('items-sentinel2.json')\n",
    "gfs = gfs.sort_values('datetime').reset_index(drop=True)\n",
    "print('records:', len(gfs))\n",
    "gfs.head()"
   ]
  },
  {
   "cell_type": "code",
   "execution_count": null,
   "metadata": {},
   "outputs": [],
   "source": [
    "# Naming convention: https://sentinel.esa.int/web/sentinel/user-guides/sentinel-2-msi/naming-convention\n",
    "# Comprehensive user guide: https://sentinel.esa.int/web/sentinel/user-guides/sentinel-2-msi\n",
    "\n",
    "print(len(gfs['datetime'].unique()))\n",
    "print(gfs['sentinel:sequence'].unique())"
   ]
  },
  {
   "cell_type": "code",
   "execution_count": null,
   "metadata": {},
   "outputs": [],
   "source": [
    "gfs.datetime.head() # NOTE: probably a bug that datetime doesn't contain seconds information"
   ]
  },
  {
   "cell_type": "code",
   "execution_count": null,
   "metadata": {},
   "outputs": [],
   "source": [
    "print(gfs['sentinel:grid_square'].unique())\n",
    "print(gfs['sentinel:latitude_band'].unique())"
   ]
  },
  {
   "cell_type": "code",
   "execution_count": null,
   "metadata": {},
   "outputs": [],
   "source": [
    "# just keep id for hover tips\n",
    "cols = gfs.loc[:,('id','geometry')]\n",
    "\n",
    "footprints = cols.hvplot(geo=True, line_color='k', alpha=0.1, title='Sentinel-2 L1C')\n",
    "aoi = gfa.hvplot(geo=True, line_color='b', fill_color=None)\n",
    "tiles = gv.tile_sources.CartoEco.options(width=700, height=500) #.redim.range(Latitude=(45, 50), Longitude=(-126,-120)) \n",
    "labels = gv.tile_sources.StamenLabels.options(level='annotation')\n",
    "tiles * footprints * aoi * labels"
   ]
  },
  {
   "cell_type": "code",
   "execution_count": null,
   "metadata": {},
   "outputs": [],
   "source": [
    "# Seems there is some swath data in there in addition to military tiles or the polygon is incorrect...\n",
    "# Actually, this is just a feature of converting swath data to standard tiles, you end up with a lot of nans\n",
    "# NOTE: might also mention difference in \"standard processing levels and compare to Landsat ARD data\"\n"
   ]
  },
  {
   "cell_type": "markdown",
   "metadata": {},
   "source": [
    "# Pull full resolution single-band analytic data\n",
    "\n",
    "The rasterio library is great for working with georeferenced imagery in python\n",
    "\n",
    "xarray is an excellent library for labelled multidimensional images"
   ]
  },
  {
   "cell_type": "code",
   "execution_count": null,
   "metadata": {},
   "outputs": [],
   "source": [
    "# Landsat first\n",
    "# 48 PWC is our best tile\n",
    "\n",
    "# Custom syntax (additional fields, query strings instead of query dict) row=068 col=162\n",
    "properties =  [\"eo:row=068\",\n",
    "               \"eo:column=162\",\n",
    "               \"landsat:tier=T1\",\n",
    "               \"eo:cloud_cover<10\"] \n",
    "results = satsearch.Search.search(collection='landsat-8-l1', \n",
    "                        bbox=bbox, \n",
    "                        sort=['<datetime'], #earliest scene first\n",
    "                        property=properties)\n",
    "print('%s items' % results.found())\n",
    "items = results.items()"
   ]
  },
  {
   "cell_type": "code",
   "execution_count": null,
   "metadata": {},
   "outputs": [],
   "source": [
    "browse_images(items)"
   ]
  },
  {
   "cell_type": "code",
   "execution_count": null,
   "metadata": {},
   "outputs": [],
   "source": [
    "# These are environmnent variable settings for efficiently reading data on AWS S3\n",
    "env = rasterio.Env(GDAL_DISABLE_READDIR_ON_OPEN='EMPTY_DIR',\n",
    "                  CPL_VSIL_CURL_ALLOWED_EXTENSIONS='TIF',\n",
    "                 )"
   ]
  },
  {
   "cell_type": "code",
   "execution_count": null,
   "metadata": {},
   "outputs": [],
   "source": [
    "# NOTE: should rename band to 'red' or '4'\n",
    "item = items[0]\n",
    "band = 'red'\n",
    "url = item.asset(band)['href']\n",
    "print(url)\n",
    "with env:\n",
    "    with rasterio.open(url) as src:\n",
    "        width = src.width\n",
    "        blockx = src.profile['blockxsize']\n",
    "        blocky = src.profile['blockysize']\n",
    "        #print(src.profile)\n",
    "        xchunk = int(width/blockx)*blockx\n",
    "        ychunk = blocky\n",
    "        da = xr.open_rasterio(src, chunks={'band': 1, 'x': xchunk, 'y': ychunk})\n",
    "da"
   ]
  },
  {
   "cell_type": "code",
   "execution_count": null,
   "metadata": {},
   "outputs": [],
   "source": [
    "# This will pull raster data over network. if operating in the same region, should be very fast!\n",
    "\n",
    "\n",
    "img = da.hvplot.image(rasterize=True, logz=True, width=700, height=500, cmap='reds', title=f'{item.id} ({band})')\n",
    "\n",
    "img "
   ]
  },
  {
   "cell_type": "code",
   "execution_count": null,
   "metadata": {},
   "outputs": [],
   "source": [
    "# NOTE: UTM coords, if we want to overlay other things we need to convert coords\n",
    "# NOTE: strange that CRS is UTM North rather than south...\n",
    "# NOTE: would be nice to have common crs representation (currently using both gf.to_crs and ccrs)\n",
    "\n",
    "crs = ccrs.UTM(zone='38N') \n",
    "img = da.hvplot.image(crs=crs, rasterize=True, width=700, height=500, cmap='reds', alpha=0.8, title=f'{item.id} ({band})') # , logz=True not working \n",
    "aoi = gfa.hvplot(geo=True, line_color='b', fill_color=None)\n",
    "tiles * img * aoi"
   ]
  },
  {
   "cell_type": "code",
   "execution_count": null,
   "metadata": {},
   "outputs": [],
   "source": [
    "# NOTE: to get full resolution RGB images, need to merge separate R,G,B bands\n",
    "#https://github.com/mapbox/landsat-tiler\n",
    "#https://github.com/cogeotiff/rio-tiler #no public endpoint for these i think.\n",
    "# public endpoint for tiling service that can handle RGB http://tiles.rdnt.io/"
   ]
  },
  {
   "cell_type": "code",
   "execution_count": null,
   "metadata": {},
   "outputs": [],
   "source": [
    "print(gfa)\n",
    "print(gfa.geometry.values)"
   ]
  },
  {
   "cell_type": "code",
   "execution_count": null,
   "metadata": {},
   "outputs": [],
   "source": [
    "# Often we are only interested in small regions of full images. One of the killer features of cloud-optimized data formats stored\n",
    "# on the cloud is that we can efficiently pull subsets of an image rather than the whole thing:\n",
    "# https://github.com/mapbox/rasterio/blob/master/docs/topics/masking-by-shapefile.rst\n",
    "# The projections of the shapefile and image need to match\n",
    "\n",
    "\n",
    "with rasterio.open(url) as src:\n",
    "    # re-project vector to match raster CRS\n",
    "    print(src.meta)\n",
    "    shape = gfa.to_crs(epsg=src.crs.to_epsg())\n",
    "    out_image, out_transform = rasterio.mask.mask(src, shape.geometry.values, crop=True)\n",
    "    out_meta = src.meta\n",
    "    out_meta.update({\n",
    "                 \"height\": out_image.shape[1],\n",
    "                 \"width\": out_image.shape[2],\n",
    "                 \"transform\": out_transform})\n",
    "    print(out_meta)\n"
   ]
  },
  {
   "cell_type": "code",
   "execution_count": null,
   "metadata": {},
   "outputs": [],
   "source": [
    "# Use a log scale\n",
    "\n",
    "\n",
    "plt.imshow(out_image[0], cmap='Reds', norm=LogNorm())\n",
    "plt.colorbar()"
   ]
  },
  {
   "cell_type": "code",
   "execution_count": null,
   "metadata": {},
   "outputs": [],
   "source": [
    "# Use the highest resolution (15m pan band)\n",
    "# NOTE: should rename band to 'red' or '4'\n",
    "# NOTE: strange the Landsat is UTM *north* crs, sentinel2 is UTM *south*\n",
    "item = items[0]\n",
    "band = 'pan'\n",
    "url = item.asset(band)['href']\n",
    "print(url)\n",
    "with env:\n",
    "    with rasterio.open(url) as src:\n",
    "        width = src.width\n",
    "        blockx = src.profile['blockxsize']\n",
    "        blocky = src.profile['blockysize']\n",
    "        #print(src.profile)\n",
    "        xchunk = int(width/blockx)*blockx\n",
    "        ychunk = blocky\n",
    "        da = xr.open_rasterio(src, chunks={'band': 1, 'x': xchunk, 'y': ychunk})\n",
    "da"
   ]
  },
  {
   "cell_type": "code",
   "execution_count": null,
   "metadata": {},
   "outputs": [],
   "source": [
    "# NOTE: UTM coords, if we want to overlay other things we need to convert coords to WGS84 or WebMercator\n",
    "\n",
    "crs = ccrs.UTM(zone='38N') \n",
    "img = da.hvplot.image(crs=crs, rasterize=True, width=700, height=500, cmap='reds', alpha=0.8, title=f'{item.id} ({band})') # , logz=True not working \n",
    "aoi = gfa.hvplot(geo=True, line_color='b', fill_color=None)\n",
    "tiles * img * aoi"
   ]
  },
  {
   "cell_type": "code",
   "execution_count": null,
   "metadata": {},
   "outputs": [],
   "source": [
    "# 48 PWC is our best tile\n",
    "# Custom syntax (additional fields, query strings instead of query dict) \n",
    "properties =  [\"sentinel:latitude_band=L\",\n",
    "               \"sentinel:grid_square=MM\",\n",
    "               \"eo:cloud_cover<10\"] \n",
    "results = satsearch.Search.search(collection='sentinel-2-l1c', \n",
    "                        bbox=bbox, \n",
    "                        sort=['<datetime'], #earliest scene first\n",
    "                        property=properties)\n",
    "print('%s items' % results.found())\n",
    "items = results.items()"
   ]
  },
  {
   "cell_type": "code",
   "execution_count": null,
   "metadata": {},
   "outputs": [],
   "source": [
    "def browse_images(items):\n",
    "    n = len(items)\n",
    "\n",
    "    def view_image(i=0):\n",
    "        item = items[i]\n",
    "        print(f\"id={item.id}\\tdate={item.datetime}\\tcloud%={item['eo:cloud_cover']}\")\n",
    "        display(Image(item.asset('thumbnail')['href']))\n",
    "    \n",
    "    interact(view_image, i=(0,n-1))"
   ]
  },
  {
   "cell_type": "code",
   "execution_count": null,
   "metadata": {},
   "outputs": [],
   "source": [
    "browse_images(items)"
   ]
  },
  {
   "cell_type": "code",
   "execution_count": null,
   "metadata": {},
   "outputs": [],
   "source": [
    "# Plot single band, full resolution\n",
    "# NOTE: sentinel2 is \"requester pays\", meaning we need AWS credentials, \n",
    "# or we need to be in the same region as the data (eu-central-1) and then there are no charges for access\n",
    "# https://forum.sentinel-hub.com/t/how-to-access-s-2-meta-data-in-aws-after-bucket-goes-to-requester-pays/328\n",
    "item = items[5]\n",
    "print(item.assets.keys())\n",
    "print(item.assets_by_common_name.keys())\n",
    "print(item.asset('thumbnail')['href'])\n",
    "print(item.asset('red')['href'])"
   ]
  },
  {
   "cell_type": "code",
   "execution_count": null,
   "metadata": {},
   "outputs": [],
   "source": [
    "\n",
    "env = rasterio.Env(AWSSession(region_name='eu-central-1', \n",
    "                              requester_pays=True),\n",
    "                  )\n",
    "url = 's3://sentinel-s2-l1c/tiles/38/L/MM/2016/5/2/0/B04.jp2'\n",
    "with env:\n",
    "    with rasterio.open(url) as src:\n",
    "        print(src.profile)"
   ]
  },
  {
   "cell_type": "code",
   "execution_count": null,
   "metadata": {},
   "outputs": [],
   "source": [
    "band = 'red'\n",
    "url = item.asset(band)['href']\n",
    "# NOTE: need a function to turn https url (href) to s3:\n",
    "url = 's3://sentinel-s2-l1c/tiles/38/L/MM/2016/5/2/0/B04.jp2'\n",
    "\n",
    "env = rasterio.Env(AWSSession(region_name='eu-central-1', \n",
    "                              requester_pays=True),\n",
    "                  )\n",
    "\n",
    "with env:\n",
    "    with rasterio.open(url) as src:\n",
    "        width = src.width\n",
    "        blockx = src.profile['blockxsize']\n",
    "        blocky = src.profile['blockysize']\n",
    "        #print(src.profile)\n",
    "        xchunk = int(width/blockx)*blockx\n",
    "        ychunk = blocky\n",
    "        da = xr.open_rasterio(src, chunks={'band': 1, 'x': xchunk, 'y': ychunk})\n",
    "da"
   ]
  },
  {
   "cell_type": "code",
   "execution_count": null,
   "metadata": {},
   "outputs": [],
   "source": [
    "# NOTE: some sort of error happening here will need to investigate...\n",
    "\n",
    "# NOTE: good example of all nans in area of interest\n",
    "# These high-res images can take a while on local internet!\n",
    "crs = ccrs.UTM(zone=38, southern_hemisphere=True) \n",
    "img = da.hvplot.image(crs=crs, rasterize=True, width=700, height=500, cmap='reds', alpha=0.8, title=f'{item.id} ({band})') # , logz=True not working \n",
    "aoi = gfa.hvplot(geo=True, line_color='b', fill_color=None)\n",
    "tiles * img * aoi"
   ]
  },
  {
   "cell_type": "code",
   "execution_count": null,
   "metadata": {},
   "outputs": [],
   "source": []
  }
 ],
 "metadata": {
  "kernelspec": {
   "display_name": "Python 3",
   "language": "python",
   "name": "python3"
  },
  "language_info": {
   "codemirror_mode": {
    "name": "ipython",
    "version": 3
   },
   "file_extension": ".py",
   "mimetype": "text/x-python",
   "name": "python",
   "nbconvert_exporter": "python",
   "pygments_lexer": "ipython3",
   "version": "3.7.3"
  }
 },
 "nbformat": 4,
 "nbformat_minor": 4
}
